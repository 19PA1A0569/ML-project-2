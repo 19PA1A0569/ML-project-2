{
  "nbformat": 4,
  "nbformat_minor": 0,
  "metadata": {
    "colab": {
      "name": "script.js",
      "provenance": [],
      "authorship_tag": "ABX9TyPYbsW0jbB3YZagrSOfAyLX",
      "include_colab_link": true
    },
    "kernelspec": {
      "name": "python3",
      "display_name": "Python 3"
    }
  },
  "cells": [
    {
      "cell_type": "markdown",
      "metadata": {
        "id": "view-in-github",
        "colab_type": "text"
      },
      "source": [
        "<a href=\"https://colab.research.google.com/github/19PA1A0569/ML-project-2/blob/main/script_js.ipynb\" target=\"_parent\"><img src=\"https://colab.research.google.com/assets/colab-badge.svg\" alt=\"Open In Colab\"/></a>"
      ]
    },
    {
      "cell_type": "code",
      "metadata": {
        "id": "yM2Xjb2LuoNW"
      },
      "source": [
        "messages=document.getElementId(\"messages\");\n",
        "input=document.getElementId(\"input\");\n",
        "botblock=document.getElementId(\"botblock\");\n",
        "userblock=document.getElementId(\"userblock\");\n",
        "\n",
        "\n",
        "msgno=0;\n",
        "\n",
        "var xhttp = new XMLHttpRequest();\n",
        "xhttp.onreadystatechange = function() {\n",
        "  if (this.readyState == 4 && this.status == 200) {\n",
        "    document.getElementById(\"demo\").innerHTML =\n",
        "    this.responseText;\n",
        "  }\n",
        "};\n",
        "xhttp.open(\"GET\", \"xmlhttp_info.txt\", true);\n",
        "xhttp.send();\n",
        "\n",
        "function take the input(event){\n",
        "  if(event.key===\"Enter\"){\n",
        "    messages.innerHTML +=userblock.outerHTML;\n",
        "    msgno+=1;\n",
        "    messages.lastChild.id=msgno;\n",
        "    messages.lastChild.childNodes[3].textContent=input.value;\n",
        "    processinput(input.value.toLowerCase());\n",
        "    input.value=\"\";\n",
        "  }\n",
        "}\n",
        "function processinput(inputval){\n",
        "  if(inputval!=\"\"){\n",
        "    messages.innerHTML+=botblock.outerHTML\n",
        "    msgno+=1\n",
        "    messages.lastChild.id=msgno;\n",
        "    messages.lastChild.childNodes[3].textContent=reply(inputval)\n",
        "  }\n",
        "}\n",
        "function reply(inputval){\n",
        "  result=inputval.match(/how)\n",
        "  var\n",
        "}"
      ],
      "execution_count": null,
      "outputs": []
    }
  ]
}