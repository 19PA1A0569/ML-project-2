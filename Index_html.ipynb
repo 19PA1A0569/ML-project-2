{
  "nbformat": 4,
  "nbformat_minor": 0,
  "metadata": {
    "colab": {
      "name": "Index.html",
      "provenance": [],
      "authorship_tag": "ABX9TyOUSLyKJVAi0b7F5T3OC+lA",
      "include_colab_link": true
    },
    "kernelspec": {
      "name": "python3",
      "display_name": "Python 3"
    }
  },
  "cells": [
    {
      "cell_type": "markdown",
      "metadata": {
        "id": "view-in-github",
        "colab_type": "text"
      },
      "source": [
        "<a href=\"https://colab.research.google.com/github/19PA1A0569/ML-project-2/blob/main/Index_html.ipynb\" target=\"_parent\"><img src=\"https://colab.research.google.com/assets/colab-badge.svg\" alt=\"Open In Colab\"/></a>"
      ]
    },
    {
      "cell_type": "code",
      "metadata": {
        "id": "mPZG7THXsVLG"
      },
      "source": [
        "<!DOCTYPE html>\n",
        "<html>\n",
        "  <head>\n",
        "    <meta charset=\"utf-8\">\n",
        "    <meta name=\"viewport\" content=\"width=device-width\">\n",
        "    <title>repl.it</title>\n",
        "    <link href=\"style.css\" rel=\"stylesheet\" type=\"text/css\" />\n",
        "  <style>\n",
        "body {\n",
        "  background-image: url('https://cdn.cjr.org/wp-content/uploads/2019/07/AdobeStock_100000042-e1563305717660-686x371.jpeg');\n",
        "}\n",
        "h4{\n",
        "  text-indent: 225px;\n",
        "}\n",
        "</style>\n",
        "  </head>\n",
        "  <body>\n",
        "    <h2>Welcome to </h2>\n",
        "    <h3>  MYNTRA</h3>\n",
        "    <img src=\"https://media.glassdoor.com/sqll/508705/myntra-squarelogo-1536411106462.png\" alt=\"girl\" width=\"100\" height=\"100\" class=\"center\">\n",
        "    <h4>(logo of myntra)</h4>\n",
        "\n",
        "  <script src=\"script.js\"></script>\n",
        "  <div id=\"box\">\n",
        "    <div id=\"messages\">\n",
        "      <div id=\"botblock\">\n",
        "        <div class=\"botmessage\">\n",
        "          Hello! Iam Myntra, nice to meet you. Are you looking for an outfit? Then you must try these!  1.Party Wear       2.Casual Wear     3.Summer Wear    4.Formal dresses and Gowns    5.Exit\n",
        "        </div>\n",
        "        <button onclick=\"myFunction()\">Enter your choice [1 or 2 or 3 or 4 or 5]:</button>\n",
        "\n",
        "<p id=\"dem\"></p>\n",
        "\n",
        "\n",
        "      </div>\n",
        "    </div>\n",
        "  </div>\n",
        "  <div class=\"usermessage\">\n",
        "\n",
        "<script>\n",
        "function myFunction() {\n",
        "  var text;\n",
        "  var favDress = prompt(\"What do you want to try?\", \"1\");\n",
        "  switch(favDress) {\n",
        "    case \"1\":\n",
        "      text = \"1.for boys:https://www.myntra.com/party-wear-for-men    and    for girls:https://www.myntra.com/women-party-wear-dresses\";\n",
        "      break;\n",
        "    case \"2\":\n",
        "      text = \"for boys: https://www.myntra.com/men-casual-wear  and   for girls: https://www.faballey.com/clothing/cat/occasion-casual-wear \";\n",
        "      break;\n",
        "    case \"3\":\n",
        "      text = \"for boys: https://www.myntra.com/men-summer-wear  and   for girls: https://www.myntra.com/women-summer-wear\";\n",
        "      break;\n",
        "    case \"4\":\n",
        "      text= \"for boys: https://www.myntra.com/formal-wear-for-men  and for girls: https://www.myntra.com/formal-wear-for-women\"\n",
        "      break;\n",
        "    default:\n",
        "      text = \"Thank you, visit again...................Bye.......👋👋..Have a great day!♦️♦️♦️♦️♦️♦️♦️♦️♦️♦️♦️♦️♦️♦️♦️♦️♦️♦️♦️♦️😍\";\n",
        "  }\n",
        "  //if you want another information just you click on that button \n",
        "  document.getElementById(\"dem\").innerHTML = text;\n",
        "}\n",
        "\n",
        "</script>\n",
        "\n",
        "  </body>\n",
        "</html>"
      ],
      "execution_count": null,
      "outputs": []
    }
  ]
}