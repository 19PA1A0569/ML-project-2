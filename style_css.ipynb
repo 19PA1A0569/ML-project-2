{
  "nbformat": 4,
  "nbformat_minor": 0,
  "metadata": {
    "colab": {
      "name": "style.css",
      "provenance": [],
      "authorship_tag": "ABX9TyPKfsMGI5wllPxMqSLXE6/K",
      "include_colab_link": true
    },
    "kernelspec": {
      "name": "python3",
      "display_name": "Python 3"
    }
  },
  "cells": [
    {
      "cell_type": "markdown",
      "metadata": {
        "id": "view-in-github",
        "colab_type": "text"
      },
      "source": [
        "<a href=\"https://colab.research.google.com/github/19PA1A0569/ML-project-2/blob/main/style_css.ipynb\" target=\"_parent\"><img src=\"https://colab.research.google.com/assets/colab-badge.svg\" alt=\"Open In Colab\"/></a>"
      ]
    },
    {
      "cell_type": "code",
      "metadata": {
        "id": "lXcVFvQdvQzM"
      },
      "source": [
        "body{\n",
        "  color: #00ffff;\n",
        "  \n",
        "}\n",
        "\n",
        "h2{\n",
        "  color:rgba(255, 0, 0, 0.685);\n",
        "  text-align:center;\n",
        "  font-size:3.5sem;\n",
        "}\n",
        "h3{\n",
        "  text-align: center;\n",
        "}\n",
        "h4{\n",
        "  color:black;\n",
        "  text-align: center;\n",
        "}\n",
        ".center{\n",
        "  width:100px;\n",
        "  height:100px;\n",
        "  margin:auto;\n",
        "  margin-top:20px;\n",
        "  display: block;\n",
        "  margin-left: auto;\n",
        "  margin-right: auto;\n",
        "  width:20%\n",
        "  margin-top:20px;\n",
        "}\n",
        ".botmessage{\n",
        "  background: #f51d57;\n",
        "  padding:10px;\n",
        "  border-radius: 10px;\n",
        "  display:inline-block;\n",
        "  margin:5px;\n",
        "  color:white;\n",
        "  border:3px whitesolid;\n",
        "}\n",
        "\n",
        "#input{\n",
        "  width:100%;\n",
        "  border-radius: 10px;\n",
        "  box-sizing:border-box;\n",
        "  height:40px;\n",
        "  font-size:15px;\n",
        "  \n",
        "}"
      ],
      "execution_count": null,
      "outputs": []
    }
  ]
}